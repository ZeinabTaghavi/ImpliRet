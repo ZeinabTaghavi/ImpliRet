{
 "cells": [
  {
   "cell_type": "code",
   "execution_count": null,
   "metadata": {},
   "outputs": [],
   "source": []
  },
  {
   "cell_type": "code",
   "execution_count": 2,
   "metadata": {},
   "outputs": [
    {
     "name": "stdout",
     "output_type": "stream",
     "text": [
      "\n",
      "\n",
      "**Task**\n",
      "Answer the Question based on the context provided. \n",
      "\n",
      "**Input**\n",
      "- The INPUT contains several conversations between two users as Context and a Question.\n",
      "- Each conversation is mentioned by a number in the following format:\n",
      "Conversation {number}:\n",
      "- Each conversation contains 10 utterances that are separated by lines.\n",
      "- Each utterance contains the date, speaker and the message in the following format:\n",
      "<date>, <speaker>: <message>\n",
      "\n",
      "**Output**\n",
      "return the final answer in a new line after \"Answer:\" without any prefix or suffix.\n",
      "\n",
      "INPUT:\n",
      "Context: Conversation 1: 2021-08-07 18:05, Elita: The smell of certain foods can instantly take me back to my childhood.\n",
      "2021-08-07 18:07, Astraea: That's so true, it's amazing how smells can evoke such strong memories.\n",
      "2021-08-07 18:09, Elita: I was just thinking about that because I had to create a budget spreadsheet three days ago from 9 in the morning for two hours, and it reminded me of when I used to help my parents with their finances.\n",
      "2021-08-07 18:11, Astraea: It's great that you're taking care of your finances, being organized can be really helpful in the long run.\n",
      "2021-08-07 18:13, Elita: Definitely, it's something that I've been trying to prioritize more and more.\n",
      "2021-08-07 18:15, Astraea: I'm sure it can be overwhelming at times, but it's worth it in the end.\n",
      "2021-08-07 18:17, Elita: Yeah, it's all about finding a system that works for you and sticking to it.\n",
      "2021-08-07 18:19, Astraea: That's really good advice, I think it applies to a lot of areas of life.\n",
      "2021-08-07 18:21, Elita: Absolutely, it's all about finding what works for you and being consistent.\n",
      "2021-08-07 18:23, Astraea: I couldn't agree more, it was great chatting with you about this. \n",
      "\n",
      "\n",
      "Question: What did Elita say was scheduled for 10:00 on August 04, 2021?\n",
      "        \n",
      "Answer:\n",
      "    \",\n",
      "\n"
     ]
    }
   ],
   "source": [
    "a = '''\n",
    "\\n**Task**\\nAnswer the Question based on the context provided. \\n\\n**Input**\\n- The INPUT contains several conversations between two users as Context and a Question.\\n- Each conversation is mentioned by a number in the following format:\\nConversation {number}:\\n- Each conversation contains 10 utterances that are separated by lines.\\n- Each utterance contains the date, speaker and the message in the following format:\\n<date>, <speaker>: <message>\\n\\n**Output**\\nreturn the final answer in a new line after \\\"Answer:\\\" without any prefix or suffix.\\n\\nINPUT:\\nContext: Conversation 1: 2021-08-07 18:05, Elita: The smell of certain foods can instantly take me back to my childhood.\\n2021-08-07 18:07, Astraea: That's so true, it's amazing how smells can evoke such strong memories.\\n2021-08-07 18:09, Elita: I was just thinking about that because I had to create a budget spreadsheet three days ago from 9 in the morning for two hours, and it reminded me of when I used to help my parents with their finances.\\n2021-08-07 18:11, Astraea: It's great that you're taking care of your finances, being organized can be really helpful in the long run.\\n2021-08-07 18:13, Elita: Definitely, it's something that I've been trying to prioritize more and more.\\n2021-08-07 18:15, Astraea: I'm sure it can be overwhelming at times, but it's worth it in the end.\\n2021-08-07 18:17, Elita: Yeah, it's all about finding a system that works for you and sticking to it.\\n2021-08-07 18:19, Astraea: That's really good advice, I think it applies to a lot of areas of life.\\n2021-08-07 18:21, Elita: Absolutely, it's all about finding what works for you and being consistent.\\n2021-08-07 18:23, Astraea: I couldn't agree more, it was great chatting with you about this. \\n\\n\\nQuestion: What did Elita say was scheduled for 10:00 on August 04, 2021?\\n        \\nAnswer:\\n    \",\n",
    "'''\n",
    "print(a)"
   ]
  },
  {
   "cell_type": "code",
   "execution_count": null,
   "metadata": {},
   "outputs": [],
   "source": []
  }
 ],
 "metadata": {
  "kernelspec": {
   "display_name": "base",
   "language": "python",
   "name": "python3"
  },
  "language_info": {
   "codemirror_mode": {
    "name": "ipython",
    "version": 3
   },
   "file_extension": ".py",
   "mimetype": "text/x-python",
   "name": "python",
   "nbconvert_exporter": "python",
   "pygments_lexer": "ipython3",
   "version": "3.12.2"
  }
 },
 "nbformat": 4,
 "nbformat_minor": 2
}
